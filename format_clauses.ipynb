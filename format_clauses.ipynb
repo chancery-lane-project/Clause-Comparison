{
 "cells": [
  {
   "cell_type": "markdown",
   "metadata": {},
   "source": [
    "## Nicely Formatting Clauses and Contracts"
   ]
  },
  {
   "cell_type": "code",
   "execution_count": 73,
   "metadata": {},
   "outputs": [],
   "source": [
    "import re\n",
    "import os"
   ]
  },
  {
   "cell_type": "code",
   "execution_count": null,
   "metadata": {},
   "outputs": [],
   "source": [
    "def format_clause(text):\n",
    "    # Remove spaces around punctuation except after periods and commas\n",
    "    text = re.sub(r'\\s*([;:\\[\\]\\(\\)“”])\\s*', r'\\1', text)  # Remove spaces around these symbols\n",
    "    text = re.sub(r'\\s*([,;])', r'\\1 ', text)  # Ensure space after commas and semicolons\n",
    "    text = re.sub(r'\\s+', ' ', text)\n",
    "    text = text.strip()  # Remove leading and trailing spaces\n",
    "\n",
    "    # Add paragraph breaks after each period that is not following a number; conditions for exceptions\n",
    "    text = re.sub(r'(?<!\\d)(?<!\\b[A-Z])(?<!\\bNo)(?<!\\bi\\.e)(?<!\\be\\.g)\\. ', '.\\n\\n', text)\n",
    "    return text\n"
   ]
  },
  {
   "cell_type": "code",
   "execution_count": null,
   "metadata": {},
   "outputs": [],
   "source": [
    "def open_clause(clause):\n",
    "    with open(clause, 'r') as f:\n",
    "        content = f.read()\n",
    "        content = format_clause(content)\n",
    "    return content"
   ]
  },
  {
   "cell_type": "code",
   "execution_count": 82,
   "metadata": {},
   "outputs": [],
   "source": [
    "example_file_path = 'contracts/british_contracts/2001/000000013.txt'"
   ]
  },
  {
   "cell_type": "code",
   "execution_count": null,
   "metadata": {},
   "outputs": [],
   "source": [
    "example = open_clause(example_file_path)\n",
    "cleaned_example = format_clause(example)\n",
    "\n",
    "with open('cleaned_example.txt', 'w') as f:\n",
    "    f.write(cleaned_example)"
   ]
  },
  {
   "cell_type": "code",
   "execution_count": null,
   "metadata": {},
   "outputs": [],
   "source": [
    "os.makedirs('cleaned_clauses', exist_ok=True)"
   ]
  },
  {
   "cell_type": "code",
   "execution_count": null,
   "metadata": {},
   "outputs": [],
   "source": [
    "#do this for a whole folder of clauses\n",
    "folder = 'England:Wales'\n",
    "for filename in os.listdir(folder):\n",
    "    if filename.endswith('.txt'):\n",
    "        file_path = os.path.join(folder, filename)\n",
    "        cleaned_clause = open_clause(file_path)\n",
    "        with open(f'cleaned_clauses/{os.path.basename(file_path)}', 'w') as f:\n",
    "            f.write(cleaned_clause)\n",
    "    else:\n",
    "        continue\n",
    "\n"
   ]
  },
  {
   "cell_type": "code",
   "execution_count": null,
   "metadata": {},
   "outputs": [],
   "source": [
    "#make folder for cleaned contracts \n",
    "os.makedirs('cleaned_contracts', exist_ok=True)"
   ]
  },
  {
   "cell_type": "code",
   "execution_count": 86,
   "metadata": {},
   "outputs": [],
   "source": [
    "#do this for a whole folder of contracts \n",
    "#open folder\n",
    "main_folder = 'contracts/british_contracts'\n",
    "output_folder = 'cleaned_contracts'\n",
    "for root, _, files in os.walk(main_folder):\n",
    "    for filename in files:\n",
    "        if filename.endswith('.txt'):\n",
    "            file_path = os.path.join(root, filename)\n",
    "            cleaned = open_clause(file_path)\n",
    "            cleaned_path = file_path.replace(main_folder, 'cleaned_contracts')\n",
    "            os.makedirs(os.path.dirname(cleaned_path), exist_ok=True)\n",
    "            with open(cleaned_path, 'w', encoding=\"utf-8\") as f:\n",
    "                f.write(cleaned)"
   ]
  }
 ],
 "metadata": {
  "kernelspec": {
   "display_name": "TCLP",
   "language": "python",
   "name": "python3"
  },
  "language_info": {
   "codemirror_mode": {
    "name": "ipython",
    "version": 3
   },
   "file_extension": ".py",
   "mimetype": "text/x-python",
   "name": "python",
   "nbconvert_exporter": "python",
   "pygments_lexer": "ipython3",
   "version": "3.10.15"
  }
 },
 "nbformat": 4,
 "nbformat_minor": 2
}
