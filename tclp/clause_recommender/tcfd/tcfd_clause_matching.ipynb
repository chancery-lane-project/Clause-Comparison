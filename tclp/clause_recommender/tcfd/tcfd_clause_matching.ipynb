{
 "cells": [
  {
   "cell_type": "markdown",
   "id": "fbb23955",
   "metadata": {},
   "source": [
    "The idea behind this notebook is that rather than using keywords, I will slot the clauses into buckets based on the 14 TCFD categories. Then, when I upload a contract, I can first slot it into a TCFD bucket and match clauses based on that bucket, rather than all of the clauses. "
   ]
  },
  {
   "cell_type": "code",
   "execution_count": null,
   "id": "fc5d8894",
   "metadata": {},
   "outputs": [],
   "source": [
    "\n",
    "import numpy as np\n",
    "from transformers import AutoTokenizer, AutoModel\n",
    "import pandas as pd\n",
    "\n",
    "from tclp.clause_recommender import utils"
   ]
  },
  {
   "cell_type": "code",
   "execution_count": 3,
   "id": "2db1e9a3",
   "metadata": {},
   "outputs": [],
   "source": [
    "doc_to_use = '../../../tclp/data/synth_data/untouched/000000009.txt'\n",
    "model_path = \"../../CC_BERT/CC_model\"\n",
    "embeddings_dir = \"../../CC_BERT/CC_embeddings\"\n",
    "legal_model_path = \"../../legalbert/lebalbert_model\"\n",
    "legal_embeddings_dir = \"../../legalbert/lebalbert_embeddings\"\n",
    "clause_folder = \"../../data/cleaned_content\"\n",
    "clause_html = '../../data/clause_boxes'\n",
    "\n",
    "with open(doc_to_use, \"r\", encoding=\"utf-8\") as f:\n",
    "    query_text = f.read()\n"
   ]
  },
  {
   "cell_type": "code",
   "execution_count": 4,
   "id": "8d7ec6f9",
   "metadata": {},
   "outputs": [
    {
     "name": "stderr",
     "output_type": "stream",
     "text": [
      "/Users/georgia/Library/Caches/pypoetry/virtualenvs/tclp-iQ_dTQ3E-py3.10/lib/python3.10/site-packages/torch/_utils.py:831: UserWarning: TypedStorage is deprecated. It will be removed in the future and UntypedStorage will be the only storage class. This should only matter to you if you are using storages directly.  To access UntypedStorage directly, use tensor.untyped_storage() instead of tensor.storage()\n",
      "  return self.fget.__get__(instance, owner)()\n",
      "Some weights of RobertaModel were not initialized from the model checkpoint at ../../CC_BERT/CC_model and are newly initialized: ['roberta.pooler.dense.bias', 'roberta.pooler.dense.weight']\n",
      "You should probably TRAIN this model on a down-stream task to be able to use it for predictions and inference.\n"
     ]
    }
   ],
   "source": [
    "tokenizer = AutoTokenizer.from_pretrained(model_path)\n",
    "model = AutoModel.from_pretrained(model_path)"
   ]
  },
  {
   "cell_type": "code",
   "execution_count": 5,
   "id": "8e424e79",
   "metadata": {},
   "outputs": [],
   "source": [
    "documents, file_names = utils.load_clauses(clause_folder)\n"
   ]
  },
  {
   "cell_type": "code",
   "execution_count": 6,
   "id": "38297af2",
   "metadata": {},
   "outputs": [],
   "source": [
    "clause_boxes, clause_box_filenames = utils.load_clauses(clause_html)"
   ]
  },
  {
   "cell_type": "code",
   "execution_count": 7,
   "id": "25be990e",
   "metadata": {},
   "outputs": [],
   "source": [
    "clause_box_df = utils.parse_clause_boxes_to_df(clause_boxes)"
   ]
  },
  {
   "cell_type": "code",
   "execution_count": 8,
   "id": "bbc37df3",
   "metadata": {},
   "outputs": [],
   "source": [
    "final_df = utils.attach_documents(clause_box_df, documents, file_names)"
   ]
  },
  {
   "cell_type": "code",
   "execution_count": 9,
   "id": "4b561d9a",
   "metadata": {},
   "outputs": [],
   "source": [
    "names, docs = utils.rebuild_documents(final_df)"
   ]
  },
  {
   "cell_type": "code",
   "execution_count": 19,
   "id": "c24b6798",
   "metadata": {},
   "outputs": [],
   "source": [
    "clause_embeddings = np.vstack([\n",
    "    utils.encode_text(doc, tokenizer, model, method=\"cls\") for doc in docs\n",
    "])"
   ]
  },
  {
   "cell_type": "markdown",
   "id": "47939408",
   "metadata": {},
   "source": [
    "____"
   ]
  },
  {
   "cell_type": "markdown",
   "id": "f5778281",
   "metadata": {},
   "source": [
    "# Matching to the TCFD categories"
   ]
  },
  {
   "cell_type": "code",
   "execution_count": 10,
   "id": "df54d5c9",
   "metadata": {},
   "outputs": [],
   "source": [
    "tcfd = pd.read_csv('TCFD_14.csv')"
   ]
  },
  {
   "cell_type": "code",
   "execution_count": 12,
   "id": "97c6be05",
   "metadata": {},
   "outputs": [
    {
     "data": {
      "text/html": [
       "<div>\n",
       "<style scoped>\n",
       "    .dataframe tbody tr th:only-of-type {\n",
       "        vertical-align: middle;\n",
       "    }\n",
       "\n",
       "    .dataframe tbody tr th {\n",
       "        vertical-align: top;\n",
       "    }\n",
       "\n",
       "    .dataframe thead th {\n",
       "        text-align: right;\n",
       "    }\n",
       "</style>\n",
       "<table border=\"1\" class=\"dataframe\">\n",
       "  <thead>\n",
       "    <tr style=\"text-align: right;\">\n",
       "      <th></th>\n",
       "      <th>Disclosure Item</th>\n",
       "      <th>Short Description</th>\n",
       "    </tr>\n",
       "  </thead>\n",
       "  <tbody>\n",
       "    <tr>\n",
       "      <th>0</th>\n",
       "      <td>Describe the board’s oversight of climate-rela...</td>\n",
       "      <td>Governance</td>\n",
       "    </tr>\n",
       "    <tr>\n",
       "      <th>1</th>\n",
       "      <td>Describe management’s role in assessing and ma...</td>\n",
       "      <td>Governance</td>\n",
       "    </tr>\n",
       "    <tr>\n",
       "      <th>2</th>\n",
       "      <td>Describe the climate-related risks and opportu...</td>\n",
       "      <td>Risk Identification</td>\n",
       "    </tr>\n",
       "    <tr>\n",
       "      <th>3</th>\n",
       "      <td>Describe the impact of climate-related risks a...</td>\n",
       "      <td>Strategic Risk Impact</td>\n",
       "    </tr>\n",
       "    <tr>\n",
       "      <th>4</th>\n",
       "      <td>Describe the resilience of the organization’s ...</td>\n",
       "      <td>Scenario Analysis</td>\n",
       "    </tr>\n",
       "    <tr>\n",
       "      <th>5</th>\n",
       "      <td>Describe the organization’s processes for iden...</td>\n",
       "      <td>Risk Assessment</td>\n",
       "    </tr>\n",
       "    <tr>\n",
       "      <th>6</th>\n",
       "      <td>Describe the organization’s processes for mana...</td>\n",
       "      <td>Risk Management</td>\n",
       "    </tr>\n",
       "    <tr>\n",
       "      <th>7</th>\n",
       "      <td>Describe how processes for identifying, assess...</td>\n",
       "      <td>Integrated Risk Governance</td>\n",
       "    </tr>\n",
       "    <tr>\n",
       "      <th>8</th>\n",
       "      <td>Disclose the metrics used by the organization ...</td>\n",
       "      <td>Metrics</td>\n",
       "    </tr>\n",
       "    <tr>\n",
       "      <th>9</th>\n",
       "      <td>Disclose Scope 1, Scope 2, and, if appropriate...</td>\n",
       "      <td>Emissions (GHG)</td>\n",
       "    </tr>\n",
       "    <tr>\n",
       "      <th>10</th>\n",
       "      <td>Describe the targets used by the organization ...</td>\n",
       "      <td>Targets &amp; Performance</td>\n",
       "    </tr>\n",
       "    <tr>\n",
       "      <th>11</th>\n",
       "      <td>Describe climate-related opportunities</td>\n",
       "      <td>Opportunities</td>\n",
       "    </tr>\n",
       "    <tr>\n",
       "      <th>12</th>\n",
       "      <td>Describe the financial impact of climate-relat...</td>\n",
       "      <td>Financial Risk Disclosure</td>\n",
       "    </tr>\n",
       "    <tr>\n",
       "      <th>13</th>\n",
       "      <td>Describe engagement with stakeholders on clima...</td>\n",
       "      <td>Stakeholder Engagement</td>\n",
       "    </tr>\n",
       "  </tbody>\n",
       "</table>\n",
       "</div>"
      ],
      "text/plain": [
       "                                      Disclosure Item  \\\n",
       "0   Describe the board’s oversight of climate-rela...   \n",
       "1   Describe management’s role in assessing and ma...   \n",
       "2   Describe the climate-related risks and opportu...   \n",
       "3   Describe the impact of climate-related risks a...   \n",
       "4   Describe the resilience of the organization’s ...   \n",
       "5   Describe the organization’s processes for iden...   \n",
       "6   Describe the organization’s processes for mana...   \n",
       "7   Describe how processes for identifying, assess...   \n",
       "8   Disclose the metrics used by the organization ...   \n",
       "9   Disclose Scope 1, Scope 2, and, if appropriate...   \n",
       "10  Describe the targets used by the organization ...   \n",
       "11             Describe climate-related opportunities   \n",
       "12  Describe the financial impact of climate-relat...   \n",
       "13  Describe engagement with stakeholders on clima...   \n",
       "\n",
       "             Short Description  \n",
       "0                   Governance  \n",
       "1                   Governance  \n",
       "2          Risk Identification  \n",
       "3        Strategic Risk Impact  \n",
       "4            Scenario Analysis  \n",
       "5              Risk Assessment  \n",
       "6              Risk Management  \n",
       "7   Integrated Risk Governance  \n",
       "8                      Metrics  \n",
       "9              Emissions (GHG)  \n",
       "10       Targets & Performance  \n",
       "11               Opportunities  \n",
       "12   Financial Risk Disclosure  \n",
       "13      Stakeholder Engagement  "
      ]
     },
     "execution_count": 12,
     "metadata": {},
     "output_type": "execute_result"
    }
   ],
   "source": [
    "tcfd"
   ]
  },
  {
   "cell_type": "code",
   "execution_count": 16,
   "id": "7f1476fb",
   "metadata": {},
   "outputs": [],
   "source": [
    "title_to_text = dict(zip(names, docs))"
   ]
  },
  {
   "cell_type": "code",
   "execution_count": 20,
   "id": "f8d3118f",
   "metadata": {},
   "outputs": [],
   "source": [
    "#embed the tcfd clauses\n",
    "tcfd_discs = tcfd['Disclosure Item'].tolist()\n",
    "tcfd_embeddings = []\n",
    "tcfd_matrix = np.vstack([\n",
    "    utils.encode_text(disc, tokenizer, model, method=\"cls\") for disc in tcfd_discs\n",
    "])"
   ]
  },
  {
   "cell_type": "markdown",
   "id": "f8251660",
   "metadata": {},
   "source": [
    "## Finding Semantic Similarity"
   ]
  },
  {
   "cell_type": "code",
   "execution_count": 43,
   "id": "9e7fbfe4",
   "metadata": {},
   "outputs": [],
   "source": [
    "assigned_tcfd = []\n",
    "similarity_scores = []\n",
    "\n",
    "for clause_vec in clause_embeddings:\n",
    "    _, score, idx, _, _ = utils.get_matching_clause(\n",
    "        clause_vec.reshape(1, -1),\n",
    "        tcfd_matrix,\n",
    "        tcfd_discs\n",
    "    )\n",
    "    similarity_scores.append(score)"
   ]
  },
  {
   "cell_type": "code",
   "execution_count": null,
   "id": "8b5c2781",
   "metadata": {},
   "outputs": [],
   "source": [
    "clause_tcfd_df = pd.DataFrame({\n",
    "    \"Clause Title\": names,\n",
    "    \"Clause Text\": docs,\n",
    "    \"Assigned TCFD Category\": assigned_tcfd,\n",
    "    \"Similarity Score\": similarity_scores\n",
    "})\n"
   ]
  },
  {
   "cell_type": "code",
   "execution_count": 42,
   "id": "7db13340",
   "metadata": {},
   "outputs": [
    {
     "data": {
      "text/plain": [
       "Assigned TCFD Category\n",
       "Describe the climate-related risks and opportunities the organization has identified over the short, medium, and long term    69\n",
       "Unassigned                                                                                                                    37\n",
       "Describe management’s role in assessing and managing climate-related risks and opportunities                                   7\n",
       "Disclose Scope 1, Scope 2, and, if appropriate, Scope 3 greenhouse gas (GHG) emissions                                         7\n",
       "Describe climate-related opportunities                                                                                         1\n",
       "Describe the resilience of the organization’s strategy, taking into consideration different climate-related scenarios          1\n",
       "Name: count, dtype: int64"
      ]
     },
     "execution_count": 42,
     "metadata": {},
     "output_type": "execute_result"
    }
   ],
   "source": [
    "clause_tcfd_df['Assigned TCFD Category'].value_counts()"
   ]
  },
  {
   "cell_type": "code",
   "execution_count": null,
   "id": "085efe4e",
   "metadata": {},
   "outputs": [],
   "source": []
  }
 ],
 "metadata": {
  "kernelspec": {
   "display_name": "Python (TCLP)",
   "language": "python",
   "name": "tclp"
  },
  "language_info": {
   "codemirror_mode": {
    "name": "ipython",
    "version": 3
   },
   "file_extension": ".py",
   "mimetype": "text/x-python",
   "name": "python",
   "nbconvert_exporter": "python",
   "pygments_lexer": "ipython3",
   "version": "3.10.15"
  }
 },
 "nbformat": 4,
 "nbformat_minor": 5
}
