{
 "cells": [
  {
   "cell_type": "markdown",
   "metadata": {},
   "source": [
    "## Nicely Formatting Clauses and Contracts"
   ]
  },
  {
   "cell_type": "markdown",
   "metadata": {},
   "source": [
    "**NOTE: This is ultimately built into the processing pipeline in Task 3 deployment**"
   ]
  },
  {
   "cell_type": "code",
   "execution_count": null,
   "metadata": {},
   "outputs": [],
   "source": [
    "import re\n",
    "import os\n",
    "from nltk.corpus import words"
   ]
  },
  {
   "cell_type": "code",
   "execution_count": null,
   "metadata": {},
   "outputs": [],
   "source": [
    "try:\n",
    "    english_words = set(words.words())\n",
    "except LookupError:\n",
    "    import nltk\n",
    "\n",
    "    nltk.download(\"words\")\n",
    "    english_words = set(words.words())"
   ]
  },
  {
   "cell_type": "code",
   "execution_count": null,
   "metadata": {},
   "outputs": [],
   "source": [
    "def process_text_document(text):\n",
    "    # Remove spaces around specific punctuation and ensure spacing consistency\n",
    "    text = re.sub(\n",
    "        r\"\\s*([;:\\[\\]\\(\\)“”])\\s*\", r\"\\1\", text\n",
    "    )  # Remove spaces around these symbols\n",
    "    text = re.sub(\n",
    "        r\"\\s*([,;])\", r\"\\1 \", text\n",
    "    )  # Ensure a space after commas and semicolons\n",
    "    text = re.sub(r\"\\s+\", \" \", text)  # Normalize multiple spaces to a single space\n",
    "    text = text.strip()  # Remove leading and trailing whitespace\n",
    "\n",
    "    # Remove all instances of \"[END]\"\n",
    "    text = re.sub(r\"\\s*\\[END\\]\\s*\", \"\", text)\n",
    "\n",
    "    # Ensure text ends with a proper punctuation mark\n",
    "    if text and text[-1] not in {\".\", \"!\", \"?\"}:\n",
    "        text = text.rstrip(text[-1]) + \".\"\n",
    "\n",
    "    # Add paragraph breaks after each period not following specific exceptions\n",
    "    text = re.sub(\n",
    "        r\"(?<!\\d)(?<!\\b[A-Z])(?<!\\bNo)(?<!\\bi\\.e)(?<!\\be\\.g)\\. \", \".\\n\\n\", text\n",
    "    )\n",
    "\n",
    "    # Remove leading/trailing dashes and replace excessive dashes within the text\n",
    "    text = re.sub(r\"^-+|-+$\", \"\", text, flags=re.MULTILINE)\n",
    "    text = re.sub(r\"-{2,}\", \"-\", text)\n",
    "\n",
    "    return text"
   ]
  },
  {
   "cell_type": "code",
   "execution_count": null,
   "metadata": {},
   "outputs": [],
   "source": [
    "def open_clause(clause):\n",
    "    with open(clause, \"r\") as f:\n",
    "        content = f.read()\n",
    "        content = process_text_document(content)\n",
    "    return content"
   ]
  },
  {
   "cell_type": "code",
   "execution_count": null,
   "metadata": {},
   "outputs": [],
   "source": [
    "example_file_path = \"../tclp_content/contracts/british_contracts/2001/000000013.txt\""
   ]
  },
  {
   "cell_type": "code",
   "execution_count": null,
   "metadata": {},
   "outputs": [],
   "source": [
    "example = open_clause(example_file_path)\n",
    "cleaned_example = process_text_document(example)\n",
    "\n",
    "with open(\"cleaned_example.txt\", \"w\") as f:\n",
    "    f.write(cleaned_example)"
   ]
  },
  {
   "cell_type": "code",
   "execution_count": null,
   "metadata": {},
   "outputs": [],
   "source": [
    "os.makedirs(\"../tclp_content/cleaned_clauses\", exist_ok=True)"
   ]
  },
  {
   "cell_type": "code",
   "execution_count": null,
   "metadata": {},
   "outputs": [],
   "source": [
    "# do this for a whole folder of clauses\n",
    "folder = \"../tclp_content/England:Wales\"\n",
    "for filename in os.listdir(folder):\n",
    "    if filename.endswith(\".txt\"):\n",
    "        file_path = os.path.join(folder, filename)\n",
    "        cleaned_clause = open_clause(file_path)\n",
    "        with open(\n",
    "            f\"../tclp_content/cleaned_clauses/{os.path.basename(file_path)}\", \"w\"\n",
    "        ) as f:\n",
    "            f.write(cleaned_clause)\n",
    "    else:\n",
    "        continue"
   ]
  },
  {
   "cell_type": "code",
   "execution_count": null,
   "metadata": {},
   "outputs": [],
   "source": [
    "# make folder for cleaned contracts\n",
    "os.makedirs(\"../tclp_content/cleaned_contracts\", exist_ok=True)"
   ]
  },
  {
   "cell_type": "code",
   "execution_count": null,
   "metadata": {},
   "outputs": [],
   "source": [
    "# do this for a whole folder of contracts\n",
    "# open folder\n",
    "main_folder = \"../tclp_content/contracts/british_contracts\"\n",
    "output_folder = \"../tclp_content/cleaned_contracts\"\n",
    "for root, _, files in os.walk(main_folder):\n",
    "    for filename in files:\n",
    "        if filename.endswith(\".txt\"):\n",
    "            file_path = os.path.join(root, filename)\n",
    "            cleaned = open_clause(file_path)\n",
    "            cleaned_path = file_path.replace(\n",
    "                main_folder, \"../tclp_content/cleaned_contracts\"\n",
    "            )\n",
    "            os.makedirs(os.path.dirname(cleaned_path), exist_ok=True)\n",
    "            with open(cleaned_path, \"w\", encoding=\"utf-8\") as f:\n",
    "                f.write(cleaned)"
   ]
  },
  {
   "cell_type": "markdown",
   "metadata": {},
   "source": [
    "### Clauses with Noise"
   ]
  },
  {
   "cell_type": "code",
   "execution_count": null,
   "metadata": {},
   "outputs": [],
   "source": [
    "os.makedirs(\"../tclp_content/cleaned_noisy_clauses\", exist_ok=True)"
   ]
  },
  {
   "cell_type": "code",
   "execution_count": null,
   "metadata": {},
   "outputs": [],
   "source": [
    "# do this for a whole folder of clauses\n",
    "folder = \"../tclp_content/1800_clauses\"\n",
    "for filename in os.listdir(folder):\n",
    "    if filename.endswith(\".txt\"):\n",
    "        file_path = os.path.join(folder, filename)\n",
    "        cleaned_clause = open_clause(file_path)\n",
    "        with open(\n",
    "            f\"../tclp_content/cleaned_noisy_clauses/{os.path.basename(file_path)}\", \"w\"\n",
    "        ) as f:\n",
    "            f.write(cleaned_clause)\n",
    "    else:\n",
    "        continue"
   ]
  }
 ],
 "metadata": {
  "kernelspec": {
   "display_name": "TCLP",
   "language": "python",
   "name": "python3"
  },
  "language_info": {
   "codemirror_mode": {
    "name": "ipython",
    "version": 3
   },
   "file_extension": ".py",
   "mimetype": "text/x-python",
   "name": "python",
   "nbconvert_exporter": "python",
   "pygments_lexer": "ipython3",
   "version": "3.10.15"
  }
 },
 "nbformat": 4,
 "nbformat_minor": 2
}
