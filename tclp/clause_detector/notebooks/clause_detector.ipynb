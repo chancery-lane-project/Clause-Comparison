{
 "cells": [
  {
   "cell_type": "markdown",
   "metadata": {},
   "source": [
    "## Clause Detection Using Pre-Trained Model"
   ]
  },
  {
   "cell_type": "code",
   "execution_count": 1,
   "metadata": {},
   "outputs": [],
   "source": [
    "from tclp.clause_detector import detector_utils as du"
   ]
  },
  {
   "cell_type": "code",
   "execution_count": 2,
   "metadata": {},
   "outputs": [],
   "source": [
    "model_name = \"../clause_identifier_model.pkl\"\n",
    "model = du.load_model(model_name)"
   ]
  },
  {
   "cell_type": "code",
   "execution_count": 3,
   "metadata": {},
   "outputs": [],
   "source": [
    "contract_dir = \"../../data/test_contracts\"\n",
    "# NOTE: If this throws an error, it is because you may have uniquely constructed your test set from training_model.ipynb. \n",
    "# Because of randonmess, different contracts may be selected for training and testing. \n",
    "# Just go into the data/test_contracts directory and pull the name of a single contract to fix this.\n",
    "single_contract = \"../../data/spend_network/fresh_contracts_identified_txt/241209_con_7063_desnz_erm_nzm_modelling_contract_award_form_and_schedules_v1_redacted.txt\"\n",
    "contract_folder = \"../../data/test_contracts\""
   ]
  },
  {
   "cell_type": "code",
   "execution_count": 4,
   "metadata": {},
   "outputs": [],
   "source": [
    "#you can input contract_dir or single_contract as the argument to this function\n",
    "processed_contracts = du.load_unlabelled_contract(contract_folder)"
   ]
  },
  {
   "cell_type": "code",
   "execution_count": 5,
   "metadata": {},
   "outputs": [
    {
     "data": {
      "text/html": [
       "<div>\n",
       "<style scoped>\n",
       "    .dataframe tbody tr th:only-of-type {\n",
       "        vertical-align: middle;\n",
       "    }\n",
       "\n",
       "    .dataframe tbody tr th {\n",
       "        vertical-align: top;\n",
       "    }\n",
       "\n",
       "    .dataframe thead th {\n",
       "        text-align: right;\n",
       "    }\n",
       "</style>\n",
       "<table border=\"1\" class=\"dataframe\">\n",
       "  <thead>\n",
       "    <tr style=\"text-align: right;\">\n",
       "      <th></th>\n",
       "      <th>contract_ids</th>\n",
       "      <th>text</th>\n",
       "    </tr>\n",
       "  </thead>\n",
       "  <tbody>\n",
       "    <tr>\n",
       "      <th>0</th>\n",
       "      <td>000038611.txt</td>\n",
       "      <td>Exhibit 10.14 SEPARATION AGREEMENT between Ray...</td>\n",
       "    </tr>\n",
       "    <tr>\n",
       "      <th>1</th>\n",
       "      <td>000038611.txt</td>\n",
       "      <td>1.2 This termination shall extend to all, if a...</td>\n",
       "    </tr>\n",
       "    <tr>\n",
       "      <th>2</th>\n",
       "      <td>000038611.txt</td>\n",
       "      <td>2. RETIREMENT FROM ALL FORMS OF OFFICE 2.1 Mr ...</td>\n",
       "    </tr>\n",
       "    <tr>\n",
       "      <th>3</th>\n",
       "      <td>000038611.txt</td>\n",
       "      <td>2.2 Mr Burel likewise shall retire from his of...</td>\n",
       "    </tr>\n",
       "    <tr>\n",
       "      <th>4</th>\n",
       "      <td>000038611.txt</td>\n",
       "      <td>2.3 Mr Burel shall resign from his office in s...</td>\n",
       "    </tr>\n",
       "    <tr>\n",
       "      <th>...</th>\n",
       "      <td>...</td>\n",
       "      <td>...</td>\n",
       "    </tr>\n",
       "    <tr>\n",
       "      <th>376604</th>\n",
       "      <td>000008913.txt</td>\n",
       "      <td>38 PROTECTION OF THE TRUSTEE Any sale by the T...</td>\n",
       "    </tr>\n",
       "    <tr>\n",
       "      <th>376605</th>\n",
       "      <td>000008913.txt</td>\n",
       "      <td>39 APPLICATION FOR LISTING OR ADMISSION TO TRA...</td>\n",
       "    </tr>\n",
       "    <tr>\n",
       "      <th>376606</th>\n",
       "      <td>000008913.txt</td>\n",
       "      <td>shall, at its expense, make application for, a...</td>\n",
       "    </tr>\n",
       "    <tr>\n",
       "      <th>376607</th>\n",
       "      <td>000008913.txt</td>\n",
       "      <td>40 RELATIONSHIP OF PLAN TO CONTRACT OF EMPLOYM...</td>\n",
       "    </tr>\n",
       "    <tr>\n",
       "      <th>376608</th>\n",
       "      <td>000008913.txt</td>\n",
       "      <td>41 ALTERATIONS No modification, alteration, or...</td>\n",
       "    </tr>\n",
       "  </tbody>\n",
       "</table>\n",
       "<p>376609 rows × 2 columns</p>\n",
       "</div>"
      ],
      "text/plain": [
       "         contract_ids                                               text\n",
       "0       000038611.txt  Exhibit 10.14 SEPARATION AGREEMENT between Ray...\n",
       "1       000038611.txt  1.2 This termination shall extend to all, if a...\n",
       "2       000038611.txt  2. RETIREMENT FROM ALL FORMS OF OFFICE 2.1 Mr ...\n",
       "3       000038611.txt  2.2 Mr Burel likewise shall retire from his of...\n",
       "4       000038611.txt  2.3 Mr Burel shall resign from his office in s...\n",
       "...               ...                                                ...\n",
       "376604  000008913.txt  38 PROTECTION OF THE TRUSTEE Any sale by the T...\n",
       "376605  000008913.txt  39 APPLICATION FOR LISTING OR ADMISSION TO TRA...\n",
       "376606  000008913.txt  shall, at its expense, make application for, a...\n",
       "376607  000008913.txt  40 RELATIONSHIP OF PLAN TO CONTRACT OF EMPLOYM...\n",
       "376608  000008913.txt  41 ALTERATIONS No modification, alteration, or...\n",
       "\n",
       "[376609 rows x 2 columns]"
      ]
     },
     "execution_count": 5,
     "metadata": {},
     "output_type": "execute_result"
    }
   ],
   "source": [
    "processed_contracts"
   ]
  },
  {
   "cell_type": "code",
   "execution_count": 6,
   "metadata": {},
   "outputs": [],
   "source": [
    "results = model.predict(processed_contracts[\"text\"])"
   ]
  },
  {
   "cell_type": "code",
   "execution_count": 7,
   "metadata": {},
   "outputs": [],
   "source": [
    "result_df, result_df_true = du.create_result_df(results, processed_contracts)"
   ]
  },
  {
   "cell_type": "code",
   "execution_count": 8,
   "metadata": {},
   "outputs": [],
   "source": [
    "#note: This function is designed to work for single contracts. \n",
    "# It will work with a contract directory but they will all be in one, very long file \n",
    "highlighted_output = du.highlight_climate_content(result_df)"
   ]
  },
  {
   "cell_type": "code",
   "execution_count": 9,
   "metadata": {},
   "outputs": [],
   "source": [
    "#save highlighted output to a file; commented so it doesn't save every time this script runs \n",
    "#du.save_file(\"highlighted_output_1.html\", highlighted_output)"
   ]
  },
  {
   "cell_type": "markdown",
   "metadata": {},
   "source": [
    "## Using the Detector"
   ]
  },
  {
   "cell_type": "code",
   "execution_count": 10,
   "metadata": {},
   "outputs": [
    {
     "data": {
      "text/html": [
       "<div>\n",
       "<style scoped>\n",
       "    .dataframe tbody tr th:only-of-type {\n",
       "        vertical-align: middle;\n",
       "    }\n",
       "\n",
       "    .dataframe tbody tr th {\n",
       "        vertical-align: top;\n",
       "    }\n",
       "\n",
       "    .dataframe thead th {\n",
       "        text-align: right;\n",
       "    }\n",
       "</style>\n",
       "<table border=\"1\" class=\"dataframe\">\n",
       "  <thead>\n",
       "    <tr style=\"text-align: right;\">\n",
       "      <th></th>\n",
       "      <th>prediction</th>\n",
       "      <th>sentence</th>\n",
       "      <th>contains_climate_keyword</th>\n",
       "    </tr>\n",
       "  </thead>\n",
       "  <tbody>\n",
       "    <tr>\n",
       "      <th>0</th>\n",
       "      <td>0</td>\n",
       "      <td>Exhibit 10.14 SEPARATION AGREEMENT between Ray...</td>\n",
       "      <td>False</td>\n",
       "    </tr>\n",
       "    <tr>\n",
       "      <th>1</th>\n",
       "      <td>0</td>\n",
       "      <td>1.2 This termination shall extend to all, if a...</td>\n",
       "      <td>False</td>\n",
       "    </tr>\n",
       "    <tr>\n",
       "      <th>2</th>\n",
       "      <td>0</td>\n",
       "      <td>2. RETIREMENT FROM ALL FORMS OF OFFICE 2.1 Mr ...</td>\n",
       "      <td>False</td>\n",
       "    </tr>\n",
       "    <tr>\n",
       "      <th>3</th>\n",
       "      <td>0</td>\n",
       "      <td>2.2 Mr Burel likewise shall retire from his of...</td>\n",
       "      <td>False</td>\n",
       "    </tr>\n",
       "    <tr>\n",
       "      <th>4</th>\n",
       "      <td>0</td>\n",
       "      <td>2.3 Mr Burel shall resign from his office in s...</td>\n",
       "      <td>False</td>\n",
       "    </tr>\n",
       "    <tr>\n",
       "      <th>...</th>\n",
       "      <td>...</td>\n",
       "      <td>...</td>\n",
       "      <td>...</td>\n",
       "    </tr>\n",
       "    <tr>\n",
       "      <th>376604</th>\n",
       "      <td>0</td>\n",
       "      <td>38 PROTECTION OF THE TRUSTEE Any sale by the T...</td>\n",
       "      <td>False</td>\n",
       "    </tr>\n",
       "    <tr>\n",
       "      <th>376605</th>\n",
       "      <td>0</td>\n",
       "      <td>39 APPLICATION FOR LISTING OR ADMISSION TO TRA...</td>\n",
       "      <td>False</td>\n",
       "    </tr>\n",
       "    <tr>\n",
       "      <th>376606</th>\n",
       "      <td>0</td>\n",
       "      <td>shall, at its expense, make application for, a...</td>\n",
       "      <td>False</td>\n",
       "    </tr>\n",
       "    <tr>\n",
       "      <th>376607</th>\n",
       "      <td>0</td>\n",
       "      <td>40 RELATIONSHIP OF PLAN TO CONTRACT OF EMPLOYM...</td>\n",
       "      <td>False</td>\n",
       "    </tr>\n",
       "    <tr>\n",
       "      <th>376608</th>\n",
       "      <td>0</td>\n",
       "      <td>41 ALTERATIONS No modification, alteration, or...</td>\n",
       "      <td>False</td>\n",
       "    </tr>\n",
       "  </tbody>\n",
       "</table>\n",
       "<p>376609 rows × 3 columns</p>\n",
       "</div>"
      ],
      "text/plain": [
       "        prediction                                           sentence  \\\n",
       "0                0  Exhibit 10.14 SEPARATION AGREEMENT between Ray...   \n",
       "1                0  1.2 This termination shall extend to all, if a...   \n",
       "2                0  2. RETIREMENT FROM ALL FORMS OF OFFICE 2.1 Mr ...   \n",
       "3                0  2.2 Mr Burel likewise shall retire from his of...   \n",
       "4                0  2.3 Mr Burel shall resign from his office in s...   \n",
       "...            ...                                                ...   \n",
       "376604           0  38 PROTECTION OF THE TRUSTEE Any sale by the T...   \n",
       "376605           0  39 APPLICATION FOR LISTING OR ADMISSION TO TRA...   \n",
       "376606           0  shall, at its expense, make application for, a...   \n",
       "376607           0  40 RELATIONSHIP OF PLAN TO CONTRACT OF EMPLOYM...   \n",
       "376608           0  41 ALTERATIONS No modification, alteration, or...   \n",
       "\n",
       "        contains_climate_keyword  \n",
       "0                          False  \n",
       "1                          False  \n",
       "2                          False  \n",
       "3                          False  \n",
       "4                          False  \n",
       "...                          ...  \n",
       "376604                     False  \n",
       "376605                     False  \n",
       "376606                     False  \n",
       "376607                     False  \n",
       "376608                     False  \n",
       "\n",
       "[376609 rows x 3 columns]"
      ]
     },
     "execution_count": 10,
     "metadata": {},
     "output_type": "execute_result"
    }
   ],
   "source": [
    "result_df"
   ]
  },
  {
   "cell_type": "code",
   "execution_count": 11,
   "metadata": {},
   "outputs": [],
   "source": [
    "contract_df_pkl = du.create_contract_df(\n",
    "    result_df, processed_contracts, labelled=False\n",
    ")"
   ]
  },
  {
   "cell_type": "code",
   "execution_count": 12,
   "metadata": {},
   "outputs": [],
   "source": [
    "likely, very_likely, extremely_likely, none = du.create_threshold_buckets(contract_df_pkl)"
   ]
  },
  {
   "cell_type": "code",
   "execution_count": 13,
   "metadata": {},
   "outputs": [
    {
     "name": "stdout",
     "output_type": "stream",
     "text": [
      "Not Likely:  45.13 %\n",
      "Could Contain:  14.48 %\n",
      "Likely:  26.7 %\n",
      "Very Likely:  13.7 %\n"
     ]
    }
   ],
   "source": [
    "du.print_percentages(likely, very_likely, extremely_likely, none, contract_df_pkl)"
   ]
  },
  {
   "cell_type": "markdown",
   "metadata": {},
   "source": [
    "I split the data 60% including a clause and 40% not including a clause so this looks good! "
   ]
  },
  {
   "cell_type": "markdown",
   "metadata": {},
   "source": [
    "### Testing for a Single File"
   ]
  },
  {
   "cell_type": "code",
   "execution_count": 14,
   "metadata": {},
   "outputs": [
    {
     "name": "stdout",
     "output_type": "stream",
     "text": [
      "very likely\n"
     ]
    }
   ],
   "source": [
    "# note: this doesn't work if you are working with a contract database; it is designed for a single file\n",
    "\n",
    "# If you want to see this functionality, run the code using the single file path\n",
    "du.print_single(likely, very_likely, extremely_likely, none)"
   ]
  },
  {
   "cell_type": "markdown",
   "metadata": {},
   "source": [
    "_____"
   ]
  },
  {
   "cell_type": "markdown",
   "metadata": {},
   "source": [
    "## Using the BERT model"
   ]
  },
  {
   "cell_type": "code",
   "execution_count": 15,
   "metadata": {},
   "outputs": [],
   "source": [
    "from transformers import AutoTokenizer, AutoModelForSequenceClassification\n",
    "import torch"
   ]
  },
  {
   "cell_type": "code",
   "execution_count": 16,
   "metadata": {},
   "outputs": [
    {
     "data": {
      "text/plain": [
       "RobertaForSequenceClassification(\n",
       "  (roberta): RobertaModel(\n",
       "    (embeddings): RobertaEmbeddings(\n",
       "      (word_embeddings): Embedding(50500, 768, padding_idx=1)\n",
       "      (position_embeddings): Embedding(514, 768, padding_idx=1)\n",
       "      (token_type_embeddings): Embedding(1, 768)\n",
       "      (LayerNorm): LayerNorm((768,), eps=1e-05, elementwise_affine=True)\n",
       "      (dropout): Dropout(p=0.1, inplace=False)\n",
       "    )\n",
       "    (encoder): RobertaEncoder(\n",
       "      (layer): ModuleList(\n",
       "        (0-5): 6 x RobertaLayer(\n",
       "          (attention): RobertaAttention(\n",
       "            (self): RobertaSdpaSelfAttention(\n",
       "              (query): Linear(in_features=768, out_features=768, bias=True)\n",
       "              (key): Linear(in_features=768, out_features=768, bias=True)\n",
       "              (value): Linear(in_features=768, out_features=768, bias=True)\n",
       "              (dropout): Dropout(p=0.1, inplace=False)\n",
       "            )\n",
       "            (output): RobertaSelfOutput(\n",
       "              (dense): Linear(in_features=768, out_features=768, bias=True)\n",
       "              (LayerNorm): LayerNorm((768,), eps=1e-05, elementwise_affine=True)\n",
       "              (dropout): Dropout(p=0.1, inplace=False)\n",
       "            )\n",
       "          )\n",
       "          (intermediate): RobertaIntermediate(\n",
       "            (dense): Linear(in_features=768, out_features=3072, bias=True)\n",
       "            (intermediate_act_fn): GELUActivation()\n",
       "          )\n",
       "          (output): RobertaOutput(\n",
       "            (dense): Linear(in_features=3072, out_features=768, bias=True)\n",
       "            (LayerNorm): LayerNorm((768,), eps=1e-05, elementwise_affine=True)\n",
       "            (dropout): Dropout(p=0.1, inplace=False)\n",
       "          )\n",
       "        )\n",
       "      )\n",
       "    )\n",
       "  )\n",
       "  (classifier): RobertaClassificationHead(\n",
       "    (dense): Linear(in_features=768, out_features=768, bias=True)\n",
       "    (dropout): Dropout(p=0.1, inplace=False)\n",
       "    (out_proj): Linear(in_features=768, out_features=2, bias=True)\n",
       "  )\n",
       ")"
      ]
     },
     "execution_count": 16,
     "metadata": {},
     "output_type": "execute_result"
    }
   ],
   "source": [
    "model_path = \"../../CC_BERT/CC_model_detect\" \n",
    "device = torch.device(\"cpu\")\n",
    "\n",
    "tokenizer = AutoTokenizer.from_pretrained(model_path)\n",
    "model = AutoModelForSequenceClassification.from_pretrained(model_path)\n",
    "model.to(device)\n",
    "model.eval()"
   ]
  },
  {
   "cell_type": "code",
   "execution_count": null,
   "metadata": {},
   "outputs": [],
   "source": [
    "texts = processed_contracts[\"text\"].tolist()\n",
    "results, probs = du.predict_climatebert(texts, tokenizer, device, model)"
   ]
  },
  {
   "cell_type": "code",
   "execution_count": null,
   "metadata": {},
   "outputs": [],
   "source": [
    "result_df, result_df_true = du.create_result_df(results, processed_contracts)"
   ]
  },
  {
   "cell_type": "code",
   "execution_count": null,
   "metadata": {},
   "outputs": [],
   "source": [
    "contract_df = du.create_contract_df(\n",
    "    result_df, processed_contracts, labelled=False\n",
    ")"
   ]
  },
  {
   "cell_type": "code",
   "execution_count": null,
   "metadata": {},
   "outputs": [],
   "source": [
    "likely, very_likely, extremely_likely, none = du.create_threshold_buckets(contract_df)"
   ]
  },
  {
   "cell_type": "code",
   "execution_count": null,
   "metadata": {},
   "outputs": [
    {
     "name": "stdout",
     "output_type": "stream",
     "text": [
      "likely\n"
     ]
    }
   ],
   "source": [
    "du.print_single(likely, very_likely, extremely_likely, none)"
   ]
  },
  {
   "cell_type": "code",
   "execution_count": null,
   "metadata": {},
   "outputs": [],
   "source": [
    "du.print_percentages(likely, very_likely, extremely_likely, none, contract_df)"
   ]
  },
  {
   "cell_type": "code",
   "execution_count": null,
   "metadata": {},
   "outputs": [],
   "source": [
    "highlighted_output = du.highlight_climate_content(result_df)"
   ]
  },
  {
   "cell_type": "code",
   "execution_count": null,
   "metadata": {},
   "outputs": [],
   "source": [
    "#save highlighted output to a file; commented so it doesn't save every time this script runs \n",
    "#du.save_file(\"highlighted_output_2.html\", highlighted_output)"
   ]
  }
 ],
 "metadata": {
  "kernelspec": {
   "display_name": "Python (TCLP)",
   "language": "python",
   "name": "tclp"
  },
  "language_info": {
   "codemirror_mode": {
    "name": "ipython",
    "version": 3
   },
   "file_extension": ".py",
   "mimetype": "text/x-python",
   "name": "python",
   "nbconvert_exporter": "python",
   "pygments_lexer": "ipython3",
   "version": "3.10.15"
  }
 },
 "nbformat": 4,
 "nbformat_minor": 2
}
