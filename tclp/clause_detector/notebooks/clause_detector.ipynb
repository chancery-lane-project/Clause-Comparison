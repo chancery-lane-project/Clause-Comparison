{
 "cells": [
  {
   "cell_type": "markdown",
   "metadata": {},
   "source": [
    "## Clause Detection Using Pre-Trained Model"
   ]
  },
  {
   "cell_type": "code",
   "execution_count": null,
   "metadata": {},
   "outputs": [],
   "source": [
    "from tclp.clause_detector import detector_utils as du"
   ]
  },
  {
   "cell_type": "code",
   "execution_count": null,
   "metadata": {},
   "outputs": [],
   "source": [
    "model_name = \"../clause_identifier_model.pkl\"\n",
    "model = du.load_model(model_name)"
   ]
  },
  {
   "cell_type": "code",
   "execution_count": null,
   "metadata": {},
   "outputs": [],
   "source": [
    "contract_dir = \"../../data/test_contracts\"\n",
    "# NOTE: If this throws an error, it is because you may have uniquely constructed your test set from training_model.ipynb. \n",
    "# Because of randonmess, different contracts may be selected for training and testing. \n",
    "# Just go into the data/test_contracts directory and pull the name of a single contract to fix this.\n",
    "single_contract = \"../../data/synth_data/modified_real/000000930.txt\""
   ]
  },
  {
   "cell_type": "code",
   "execution_count": null,
   "metadata": {},
   "outputs": [],
   "source": [
    "#you can input contract_dir or single_contract as the argument to this function\n",
    "processed_contracts = du.load_unlabelled_contract(single_contract)"
   ]
  },
  {
   "cell_type": "code",
   "execution_count": null,
   "metadata": {},
   "outputs": [],
   "source": [
    "processed_contracts"
   ]
  },
  {
   "cell_type": "code",
   "execution_count": null,
   "metadata": {},
   "outputs": [],
   "source": [
    "results = model.predict(processed_contracts[\"text\"])"
   ]
  },
  {
   "cell_type": "code",
   "execution_count": null,
   "metadata": {},
   "outputs": [],
   "source": [
    "#note: This function is designed to work for single contracts. \n",
    "# It will work with a contract directory but they will all be in one, very long file \n",
    "highlighted_output = du.highlight_climate_content(processed_contracts[\"text\"], results)"
   ]
  },
  {
   "cell_type": "code",
   "execution_count": null,
   "metadata": {},
   "outputs": [],
   "source": [
    "#save highlighted output to a file; commented so it doesn't save every time this script runs \n",
    "#du.save_file(\"highlighted_output.html\", highlighted_output)"
   ]
  },
  {
   "cell_type": "code",
   "execution_count": null,
   "metadata": {},
   "outputs": [],
   "source": [
    "contract_df = du.create_contract_df(\n",
    "    processed_contracts[\"text\"], processed_contracts, results, labelled=False\n",
    ")"
   ]
  },
  {
   "cell_type": "code",
   "execution_count": null,
   "metadata": {},
   "outputs": [],
   "source": [
    "likely, very_likely, extremely_likely, none = du.create_threshold_buckets(contract_df)"
   ]
  },
  {
   "cell_type": "code",
   "execution_count": null,
   "metadata": {},
   "outputs": [],
   "source": [
    "du.print_percentages(likely, very_likely, extremely_likely, none, contract_df)"
   ]
  },
  {
   "cell_type": "code",
   "execution_count": null,
   "metadata": {},
   "outputs": [],
   "source": [
    "# note: this doesn't work if you are working with a contract database; it is designed for a single file\n",
    "# In the way this file is currently written, this outputs nonsense because we are working with a folder\n",
    "# of contracts, not a single contract.\n",
    "\n",
    "# If you want to see this functionality, run the code using the single file path\n",
    "du.print_single(likely, very_likely, extremely_likely, none)"
   ]
  },
  {
   "cell_type": "markdown",
   "metadata": {},
   "source": [
    "I split the data 60% including a clause and 40% not including a clause so this looks good! "
   ]
  }
 ],
 "metadata": {
  "kernelspec": {
   "display_name": "tclp-Ed8P8bAs-py3.10",
   "language": "python",
   "name": "python3"
  },
  "language_info": {
   "codemirror_mode": {
    "name": "ipython",
    "version": 3
   },
   "file_extension": ".py",
   "mimetype": "text/x-python",
   "name": "python",
   "nbconvert_exporter": "python",
   "pygments_lexer": "ipython3",
   "version": "3.10.15"
  }
 },
 "nbformat": 4,
 "nbformat_minor": 2
}
